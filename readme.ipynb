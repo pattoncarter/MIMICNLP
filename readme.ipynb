{
 "cells": [
  {
   "cell_type": "markdown",
   "metadata": {},
   "source": [
    "# This is a submission for Carter Patton - CEP2763"
   ]
  },
  {
   "cell_type": "markdown",
   "metadata": {},
   "source": [
    "### Below is the GitHub Repo that contains the code for this submission\n",
    "[GitHub Repo](https://github.com/pattoncarter/MIMICNLP)"
   ]
  },
  {
   "cell_type": "markdown",
   "metadata": {},
   "source": [
    "### The GitHub Repo contains 6 files. Each file contains the following information:\n",
    "* <b>NLP_Sepsis_ClinicalBERT.ipynb</b> - This file contains the code for the NLP model using ClinicalBERT for the prediction of sepsis. The model is trained on the MIMIC-III dataset. The model is trained on the clinical notes of the patients to predict sepsis. The model is evaluated on the test set and the tSNE plot of the embeddings is displayed.\n",
    "\n",
    "* <b>NLP_Sepsis_SciSpacy.ipynb</b> - This file contains the code for the NLP model using SciSpacy for the prediction of sepsis. The model is trained on the MIMIC-III dataset. The model is trained on the clinical notes of the patients to predict sepsis. The model is evaluated on the test set and the tSNE plot of the embeddings is displayed.\n",
    "\n",
    "* <b>NLP_Sepsis_SpaCy.ipynb</b> - This file contains the code for the NLP model using SpaCy for the prediction of sepsis. The model is trained on the MIMIC-III dataset. The model is trained on the clinical notes of the patients to predict sepsis. The model is evaluated on the test set and the tSNE plot of the embeddings is displayed.\n",
    "\n",
    "* <b>NLP_UTI_ClinicalBERT.ipynb</b> - This file contains the code for the NLP model using ClinicalBERT for the prediction of UTI. The model is trained on the MIMIC-III dataset. The model is trained on the clinical notes of the patients to predict UTI. The model is evaluated on the test set and the tSNE plot of the embeddings is displayed.\n",
    "\n",
    "* <b>NLP_UTI_SciSpacy.ipynb</b> - This file contains the code for the NLP model using SciSpacy for the prediction of UTI. The model is trained on the MIMIC-III dataset. The model is trained on the clinical notes of the patients to predict UTI. The model is evaluated on the test set and the tSNE plot of the embeddings is displayed.\n",
    "\n",
    "* <b>NLP_UTI_SpaCy.ipynb</b> - This file contains the code for the NLP model using SpaCy for the prediction of UTI. The model is trained on the MIMIC-III dataset. The model is trained on the clinical notes of the patients to predict UTI. The model is evaluated on the test set and the tSNE plot of the embeddings is displayed.\n",
    "\n",
    "In addition to these files, there is a file <b>MIMICNLP.pdf</b> that contains the detailed report of the project. \n",
    "\n",
    "This report is also included in the Canvas Submission."
   ]
  }
 ],
 "metadata": {
  "language_info": {
   "name": "python"
  }
 },
 "nbformat": 4,
 "nbformat_minor": 2
}
